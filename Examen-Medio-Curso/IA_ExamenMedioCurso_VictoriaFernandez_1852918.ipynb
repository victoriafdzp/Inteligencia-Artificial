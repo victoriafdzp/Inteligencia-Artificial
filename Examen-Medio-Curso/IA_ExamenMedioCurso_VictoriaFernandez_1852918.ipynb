{
  "nbformat": 4,
  "nbformat_minor": 0,
  "metadata": {
    "colab": {
      "name": "IA_ExamenMedioCurso_VictoriaFernandez_1852918",
      "provenance": [],
      "collapsed_sections": []
    },
    "kernelspec": {
      "name": "python3",
      "display_name": "Python 3"
    },
    "language_info": {
      "name": "python"
    }
  },
  "cells": [
    {
      "cell_type": "markdown",
      "metadata": {
        "id": "sG-VCNOSNBGY"
      },
      "source": [
        "**EXAMEN MEDIO CURSO Inteligencia Artificial y Redes Neuronales**\n",
        "\n",
        "**Victoria Fernández Peña**\n",
        "**1852918**\n",
        "\n",
        "**Jueves N4**\n",
        "\n"
      ]
    },
    {
      "cell_type": "code",
      "metadata": {
        "colab": {
          "base_uri": "https://localhost:8080/"
        },
        "id": "A_J6XzTyKg9S",
        "outputId": "1d297d54-a320-4654-a83d-c64ad3736242"
      },
      "source": [
        "ex_lista = [10, 15, 17, 21, 22, 34, 37, 40, 45, 52, 66, 68, 81, 84, 91, 94, 102, 105, 109]\n",
        "lista_corregida = []\n",
        "for numero in ex_lista:\n",
        "  if numero % 2 != 0:\n",
        "    lista_corregida.append(numero)\n",
        "\n",
        "print(\"Lista sin numeros pares: \")\n",
        "print(lista_corregida)"
      ],
      "execution_count": 5,
      "outputs": [
        {
          "output_type": "stream",
          "name": "stdout",
          "text": [
            "Lista sin numeros pares: \n",
            "[15, 17, 21, 37, 45, 81, 91, 105, 109]\n"
          ]
        }
      ]
    },
    {
      "cell_type": "code",
      "metadata": {
        "colab": {
          "base_uri": "https://localhost:8080/"
        },
        "id": "uQDMoWbRKoRl",
        "outputId": "364a8857-08b3-41e5-b6cf-b355db75bd72"
      },
      "source": [
        "ranking = range(1, 6)\n",
        "favoritas = []\n",
        "for fav in ranking:\n",
        "  prompt = f\"Ingresa tu {fav}a pelicula favorita: \"\n",
        "  favorita = input(prompt)\n",
        "  favoritas.append(favorita)\n",
        "\n",
        "for i in range(len(favoritas)):\n",
        "  print(f\"La pelicula {favoritas[i]} está en la posicion {i+1} de mi top 5\")"
      ],
      "execution_count": 4,
      "outputs": [
        {
          "output_type": "stream",
          "name": "stdout",
          "text": [
            "Ingresa tu 1a pelicula favorita: coraline\n",
            "Ingresa tu 2a pelicula favorita: barbie\n",
            "Ingresa tu 3a pelicula favorita: bratz\n",
            "Ingresa tu 4a pelicula favorita: transformers\n",
            "Ingresa tu 5a pelicula favorita: avengers\n",
            "La pelicula coraline está en la posicion 1 de mi top 5\n",
            "La pelicula barbie está en la posicion 2 de mi top 5\n",
            "La pelicula bratz está en la posicion 3 de mi top 5\n",
            "La pelicula transformers está en la posicion 4 de mi top 5\n",
            "La pelicula avengers está en la posicion 5 de mi top 5\n"
          ]
        }
      ]
    }
  ]
}
