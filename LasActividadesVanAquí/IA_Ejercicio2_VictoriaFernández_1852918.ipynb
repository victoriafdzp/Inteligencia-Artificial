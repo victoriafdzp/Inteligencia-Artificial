{
  "nbformat": 4,
  "nbformat_minor": 0,
  "metadata": {
    "colab": {
      "name": "IA_Ejercicio2_VictoriaFernández_1852918.ipynb",
      "provenance": [],
      "collapsed_sections": []
    },
    "kernelspec": {
      "name": "python3",
      "display_name": "Python 3"
    },
    "language_info": {
      "name": "python"
    }
  },
  "cells": [
    {
      "cell_type": "markdown",
      "metadata": {
        "id": "_iA7HgRO9ScP"
      },
      "source": [
        "# Ejercicios Introducción Python 2\n",
        "## Victoria Fernández Peña\n",
        "## 1852918\n",
        "## Jueves N4"
      ]
    },
    {
      "cell_type": "markdown",
      "metadata": {
        "id": "sHf7uaKg9f9d"
      },
      "source": [
        "# Ejercicio 1:\n",
        "\n",
        "## 1.1"
      ]
    },
    {
      "cell_type": "code",
      "metadata": {
        "colab": {
          "base_uri": "https://localhost:8080/"
        },
        "id": "FT5xNRXw9e4X",
        "outputId": "877f1140-34f1-4e3b-82e0-806c13d9e669"
      },
      "source": [
        "comidas = []\n",
        "for i in range(0,7):\n",
        "  comida = input(\"Ingresa tu \" + str(i+1) + \"a comida favorita: \")\n",
        "  comidas.append(comida)\n",
        "\n",
        "print(\"Imprimiendo comidas: \")\n",
        "for comida in comidas:\n",
        "  print(comida)"
      ],
      "execution_count": null,
      "outputs": [
        {
          "output_type": "stream",
          "name": "stdout",
          "text": [
            "Ingresa tu 1a comida favorita: sushi\n",
            "Ingresa tu 2a comida favorita: chips fuego\n",
            "Ingresa tu 3a comida favorita: tacos\n",
            "Ingresa tu 4a comida favorita: caldo tlalpeño\n",
            "Ingresa tu 5a comida favorita: pasta\n",
            "Ingresa tu 6a comida favorita: hamburguesa\n",
            "Ingresa tu 7a comida favorita: salmon \n",
            "Imprimiendo comidas: \n",
            "sushi\n",
            "chips fuego\n",
            "tacos\n",
            "caldo tlalpeño\n",
            "pasta\n",
            "hamburguesa\n",
            "salmon \n"
          ]
        }
      ]
    },
    {
      "cell_type": "markdown",
      "metadata": {
        "id": "vnxJETjJGWxA"
      },
      "source": [
        "## 1.2"
      ]
    },
    {
      "cell_type": "code",
      "metadata": {
        "colab": {
          "base_uri": "https://localhost:8080/"
        },
        "id": "idq1tOR3GYEu",
        "outputId": "a4d58af9-3c8b-4389-ba3b-8c6fbd3fda94"
      },
      "source": [
        "for comida in comidas:\n",
        "  print(f\"Una de mis comidas favoritas es: {comida}\")"
      ],
      "execution_count": null,
      "outputs": [
        {
          "output_type": "stream",
          "name": "stdout",
          "text": [
            "Una de mis comidas favoritas es: sushi\n",
            "Una de mis comidas favoritas es: chips fuego\n",
            "Una de mis comidas favoritas es: tacos\n",
            "Una de mis comidas favoritas es: caldo tlalpeño\n",
            "Una de mis comidas favoritas es: pasta\n",
            "Una de mis comidas favoritas es: hamburguesa\n",
            "Una de mis comidas favoritas es: salmon \n"
          ]
        }
      ]
    },
    {
      "cell_type": "markdown",
      "metadata": {
        "id": "v-z_7ru7_BHp"
      },
      "source": [
        "# Ejercicio 2"
      ]
    },
    {
      "cell_type": "code",
      "metadata": {
        "colab": {
          "base_uri": "https://localhost:8080/"
        },
        "id": "r90MaOv7_DEb",
        "outputId": "36fcb6e5-05c1-4a3d-9966-eadb468f7535"
      },
      "source": [
        "print(\"Piedra papel o tijera\")\n",
        "mov1 = input(\"Ingresa tu opción jugador 1: \")\n",
        "mov2 = input(\"Ingresa tu opción jugador 2: \")\n",
        "if mov1 == mov2:\n",
        "  print(\"Empate\")\n",
        "elif mov1 == \"piedra\":\n",
        "  if mov2 == \"papel\":\n",
        "    print(\"Gana jugador 2\")\n",
        "  elif mov2 == \"tijera\":\n",
        "    print(\"Gana jugador 1\")\n",
        "  else:\n",
        "    print(\"Entrada invalida de jugador 2\")\n",
        "elif mov1 == \"papel\":\n",
        "  if mov2 == \"piedra\":\n",
        "    print(\"Gana jugador 1\")\n",
        "  elif mov2 == \"tijera\":\n",
        "    print(\"Gana jugador 2\")\n",
        "  else:\n",
        "    print(\"Entrada invalida de jugador 2\")\n",
        "elif mov1 == \"tijera\":\n",
        "  if mov2 == \"piedra\":\n",
        "    print(\"Gana jugador 2\")\n",
        "  elif mov2 == \"papel\":\n",
        "    print(\"Gana jugador 1\")\n",
        "  else:\n",
        "    print(\"Entrada invalida de jugador 2\")\n",
        "else:\n",
        "  print(\"Entrada invalida de jugador 1\")"
      ],
      "execution_count": null,
      "outputs": [
        {
          "output_type": "stream",
          "name": "stdout",
          "text": [
            "Piedra papel o tijera\n",
            "Ingresa tu opción jugador 1: piedra\n",
            "Ingresa tu opción jugador 2: tijera\n",
            "Gana jugador 1\n"
          ]
        }
      ]
    },
    {
      "cell_type": "markdown",
      "metadata": {
        "id": "4kVpaLWpS6Ua"
      },
      "source": [
        "# Ejercicio 3"
      ]
    },
    {
      "cell_type": "code",
      "metadata": {
        "colab": {
          "base_uri": "https://localhost:8080/"
        },
        "id": "IxrIdbrFS9No",
        "outputId": "ede7807f-c69c-431a-c601-9c0d38bfc6df"
      },
      "source": [
        "final = 7\n",
        "for i in range(0,11):\n",
        "  rango = list(range(1,final))\n",
        "  print(rango)\n",
        "  if i < 5:\n",
        "    final = final - 1\n",
        "  else:\n",
        "    final = final + 1\n"
      ],
      "execution_count": null,
      "outputs": [
        {
          "output_type": "stream",
          "name": "stdout",
          "text": [
            "[1, 2, 3, 4, 5, 6]\n",
            "[1, 2, 3, 4, 5]\n",
            "[1, 2, 3, 4]\n",
            "[1, 2, 3]\n",
            "[1, 2]\n",
            "[1]\n",
            "[1, 2]\n",
            "[1, 2, 3]\n",
            "[1, 2, 3, 4]\n",
            "[1, 2, 3, 4, 5]\n",
            "[1, 2, 3, 4, 5, 6]\n"
          ]
        }
      ]
    }
  ]
}