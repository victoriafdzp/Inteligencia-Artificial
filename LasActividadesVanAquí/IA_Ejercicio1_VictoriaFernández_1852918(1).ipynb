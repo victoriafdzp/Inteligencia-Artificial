{
  "nbformat": 4,
  "nbformat_minor": 0,
  "metadata": {
    "colab": {
      "name": "IA_Ejercicio1_VictoriaFernández_1852918.ipynb",
      "provenance": [],
      "collapsed_sections": []
    },
    "kernelspec": {
      "name": "python3",
      "display_name": "Python 3"
    },
    "language_info": {
      "name": "python"
    }
  },
  "cells": [
    {
      "cell_type": "markdown",
      "metadata": {
        "id": "_iA7HgRO9ScP"
      },
      "source": [
        "# Ejercicios Introducción Python\n",
        "## Victoria Fernández Peña\n",
        "## 1852918\n",
        "## Jueves N1"
      ]
    },
    {
      "cell_type": "markdown",
      "metadata": {
        "id": "sHf7uaKg9f9d"
      },
      "source": [
        "# Ejercicio 1"
      ]
    },
    {
      "cell_type": "code",
      "metadata": {
        "colab": {
          "base_uri": "https://localhost:8080/"
        },
        "id": "FT5xNRXw9e4X",
        "outputId": "d22edfb2-6e57-4fe5-8b30-01c22c13fab9"
      },
      "source": [
        "print(\"Por favor ingresa tu nombre: \")\n",
        "nombre = input()\n",
        "print(\"Ahora, ingresa tu edad: \")\n",
        "edad = input()\n",
        "# no hay necesidad de parsear la variable como un numero, se trabaja como string\n",
        "print(\"Que tal tu frase favorita: \")\n",
        "frase = input()\n",
        "print(\"Y el autor de esa frase es: \")\n",
        "autor = input()\n",
        "ans = \"Tu nombre es \" + nombre + \", tienes \" + edad + \" años y tu frase favorita es \"\\\n",
        "+ frase + \" escrita por \" + autor # se añade un \\ para continuar la linea\n",
        "print(ans)"
      ],
      "execution_count": 1,
      "outputs": [
        {
          "output_type": "stream",
          "name": "stdout",
          "text": [
            "Por favor ingresa tu nombre: \n",
            "Victoria\n",
            "Ahora, ingresa tu edad: \n",
            "20\n",
            "Que tal tu frase favorita: \n",
            "El respeto al derecho ajeno es la paz\n",
            "Y el autor de esa frase es: \n",
            "Benito Juarez\n",
            "Tu nombre es Victoria, tienes 20 años y tu frase favorita es El respeto al derecho ajeno es la paz escrita por Benito Juarez\n"
          ]
        }
      ]
    },
    {
      "cell_type": "markdown",
      "metadata": {
        "id": "v-z_7ru7_BHp"
      },
      "source": [
        "# Ejercicio 2"
      ]
    },
    {
      "cell_type": "code",
      "metadata": {
        "colab": {
          "base_uri": "https://localhost:8080/"
        },
        "id": "r90MaOv7_DEb",
        "outputId": "8bc4c9bc-a45f-4032-9b7a-2e4bcce6e58b"
      },
      "source": [
        "print(\"Ingresa tu primer número entero: \")\n",
        "int1 = int(input()) # uso la funcion de int() para parsear el input\n",
        "print(\"Ahora ingresa el segundo entero: \")\n",
        "int2 = int(input())\n",
        "print(\"Por favor ingresa el primer número flotante: \")\n",
        "flt1 = float(input()) # aqui uso la funcion float para parsear como flotante\n",
        "print(\"Por último, el segundo flotante: \")\n",
        "flt2 = float(input())\n",
        "sumaInt = int1 + int2\n",
        "sumaFlt = flt1 + flt2\n",
        "restaInt = int1 - int2\n",
        "restaFlt = flt1 - flt2\n",
        "multInt = int1 * int2\n",
        "multFlt = flt1 * flt2\n",
        "divInt = int1 // int2 # el operador // retorna la parte entera de la division\n",
        "divFlt = flt1 / flt2 # el operador / retorna un flotante\n",
        "# la f se usa para hacer fstrings para poner mas facil las variables\n",
        "print(f\"La suma de {int1} y {int2} es {sumaInt}\")\n",
        "print(f\"La resta de {int1} y {int2} es {restaInt}\")\n",
        "print(f\"La multiplicacion de {int1} y {int2} es {multInt}\")\n",
        "print(f\"La division de {int1} y {int2} es {divInt}\")\n",
        "print(\"Ahora los flotantes\")\n",
        "print(f\"La suma de {flt1} y {flt2} es {sumaFlt}\")\n",
        "print(f\"La resta de {flt1} y {flt2} es {restaFlt}\")\n",
        "print(f\"La multiplicacion de {flt1} y {flt2} es {multFlt}\")\n",
        "print(f\"La division de {flt1} y {flt2} es {divFlt}\")"
      ],
      "execution_count": 5,
      "outputs": [
        {
          "output_type": "stream",
          "name": "stdout",
          "text": [
            "Ingresa tu primer número entero: \n",
            "6\n",
            "Ahora ingresa el segundo entero: \n",
            "3\n",
            "Por favor ingresa el primer número flotante: \n",
            "3.14\n",
            "Por último, el segundo flotante: \n",
            "1.1\n",
            "La suma de 6 y 3 es 9\n",
            "La resta de 6 y 3 es 3\n",
            "La multiplicacion de 6 y 3 es 18\n",
            "La division de 6 y 3 es 2\n",
            "Ahora los flotantes\n",
            "La suma de 3.14 y 1.1 es 4.24\n",
            "La resta de 3.14 y 1.1 es 2.04\n",
            "La multiplicacion de 3.14 y 1.1 es 3.4540000000000006\n",
            "La division de 3.14 y 1.1 es 2.8545454545454545\n"
          ]
        }
      ]
    },
    {
      "cell_type": "markdown",
      "metadata": {
        "id": "4kVpaLWpS6Ua"
      },
      "source": [
        "# Ejercicio 3"
      ]
    },
    {
      "cell_type": "code",
      "metadata": {
        "colab": {
          "base_uri": "https://localhost:8080/"
        },
        "id": "IxrIdbrFS9No",
        "outputId": "58218a6f-246e-40f3-cf4c-096891c516e5"
      },
      "source": [
        "print(\"Ingresa tu edad: \")\n",
        "edad = int(input())\n",
        "\n",
        "if edad <= 12 and edad >= 6:\n",
        "  print(\"Estas en la primaria\")\n",
        "elif edad > 12 and edad <= 15:\n",
        "  print(\"Estas en la secundaria\")\n",
        "elif not edad < 6: # si la edad no es menor que 6\n",
        "  print(\"Estas en educacion superior\")\n",
        "elif not edad > 15: # si la edad no es mayor que 15\n",
        "  print(\"Estas en kinder\")\n",
        "\n",
        "print(\"Ingresa el limite inferior del rango: \")\n",
        "inf = int(input())\n",
        "print(\"Ingresa el limite superior del rango: \")\n",
        "sup = int(input())\n",
        "\n",
        "if edad > sup or edad < inf:\n",
        "  print(\"La edad no está en el rango\")\n",
        "else:\n",
        "  print(\"La edad está en el rango\")\n",
        "\n",
        "if edad % 2 == 0 or edad == 0: # el operador % es modulo\n",
        "  print(\"La edad es par\")\n",
        "else:\n",
        "  print(\"La edad es impar\")"
      ],
      "execution_count": null,
      "outputs": [
        {
          "output_type": "stream",
          "name": "stdout",
          "text": [
            "Ingresa tu edad: \n",
            "20\n",
            "Estas en educacion superior\n",
            "Ingresa el limite inferior del rango: \n",
            "17\n",
            "Ingresa el limite superior del rango: \n",
            "25\n",
            "La edad está en el rango\n",
            "La edad es par\n"
          ]
        }
      ]
    }
  ]
}